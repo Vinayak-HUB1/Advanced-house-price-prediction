{
  "nbformat": 4,
  "nbformat_minor": 0,
  "metadata": {
    "colab": {
      "name": "INML!.ipynb",
      "provenance": [],
      "authorship_tag": "ABX9TyNfCaRrRfE4lQrxrgWWfrts",
      "include_colab_link": true
    },
    "kernelspec": {
      "name": "python3",
      "display_name": "Python 3"
    },
    "language_info": {
      "name": "python"
    }
  },
  "cells": [
    {
      "cell_type": "markdown",
      "metadata": {
        "id": "view-in-github",
        "colab_type": "text"
      },
      "source": [
        "<a href=\"https://colab.research.google.com/github/vinayak-coder95/Advanced-house-price-prediction/blob/main/INML!.ipynb\" target=\"_parent\"><img src=\"https://colab.research.google.com/assets/colab-badge.svg\" alt=\"Open In Colab\"/></a>"
      ]
    },
    {
      "cell_type": "code",
      "metadata": {
        "id": "3z1wmJs4v_Eg"
      },
      "source": [
        "#1.machine learning means creating and equation which can relate the relation between input and output and based on that we can take furthur outputs just based on inputs.\n"
      ],
      "execution_count": 2,
      "outputs": []
    },
    {
      "cell_type": "markdown",
      "metadata": {
        "id": "vg8tjUmpxObg"
      },
      "source": [
        "2. large data handling\n",
        "   to find complex realations.\n",
        "   to predict future behavior.\n",
        "   one time job for same type of data."
      ]
    },
    {
      "cell_type": "markdown",
      "metadata": {
        "id": "K4ivjrQMygG1"
      },
      "source": [
        "3.labled trainign set means the training data based on which our model learns the realation of input with output."
      ]
    },
    {
      "cell_type": "markdown",
      "metadata": {
        "id": "Im8bcENEy3gE"
      },
      "source": [
        "4.weather forecasting.\n",
        "  text classification."
      ]
    },
    {
      "cell_type": "markdown",
      "metadata": {
        "id": "86rKunVYzkyg"
      },
      "source": [
        "5.creating a group of students based on their percentage.\n",
        "   creating a group of client based on their requirements.\n",
        "   peoples based on their annual income\n",
        "   in local it may be first claass or second class."
      ]
    },
    {
      "cell_type": "code",
      "metadata": {
        "id": "bbDdZ-mczkDQ"
      },
      "source": [
        "\n",
        "#7..clustering algorithm."
      ],
      "execution_count": 4,
      "outputs": []
    },
    {
      "cell_type": "markdown",
      "metadata": {
        "id": "0hOc3FCW2bcw"
      },
      "source": [
        "8.supervised learning."
      ]
    },
    {
      "cell_type": "markdown",
      "metadata": {
        "id": "7wwanNCG4YZl"
      },
      "source": [
        "9.online learning means data is continously given in small parts."
      ]
    },
    {
      "cell_type": "code",
      "metadata": {
        "id": "MKRWFpH84fw9"
      },
      "source": [
        "10.out of core learning means it does not work in your computer memory like core learning."
      ],
      "execution_count": null,
      "outputs": []
    },
    {
      "cell_type": "markdown",
      "metadata": {
        "id": "bmIdHJ4042kB"
      },
      "source": [
        "11.linear regression,ridge and lasso regression,and all other supervised learning algorithms."
      ]
    },
    {
      "cell_type": "markdown",
      "metadata": {
        "id": "GzSsm5s25KTf"
      },
      "source": [
        "12.model parameters are predefined which responcible for output bt hyperparameter are the ones we set."
      ]
    },
    {
      "cell_type": "markdown",
      "metadata": {
        "id": "Xr5i-VyR5m5f"
      },
      "source": [
        "13.model based learning look for the parameters which can give better accuracy and they used hyper parameter tunning to acchieve those parameters."
      ]
    },
    {
      "cell_type": "markdown",
      "metadata": {
        "id": "Lv9ioZGK6Ykk"
      },
      "source": [
        "14.avoid variances.\n",
        "   split data into train and test.\n",
        "   avoid overfitting problem.\n",
        "   optimal parameter selection."
      ]
    },
    {
      "cell_type": "markdown",
      "metadata": {
        "id": "-snNwnyv6_ca"
      },
      "source": [
        "15.this is an overfitting problem.we can avoid by introducing new data to model again and again and select optimul acuracy."
      ]
    },
    {
      "cell_type": "markdown",
      "metadata": {
        "id": "r36aomXP7fFA"
      },
      "source": [
        "16.test set is the one on which we test our model."
      ]
    },
    {
      "cell_type": "markdown",
      "metadata": {
        "id": "ybYKi6R072Hw"
      },
      "source": [
        "17.Validation set is a set used to compare between different training models."
      ]
    },
    {
      "cell_type": "markdown",
      "metadata": {
        "id": "grn5Ilto74AS"
      },
      "source": [
        "18.It provides a pathway for you to gain the knowledge and skills to apply machine learning to your work."
      ]
    }
  ]
}